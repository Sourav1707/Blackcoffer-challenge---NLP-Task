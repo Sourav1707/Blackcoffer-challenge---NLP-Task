{
 "cells": [
  {
   "cell_type": "markdown",
   "id": "4a53925b",
   "metadata": {},
   "source": [
    "# Blackcoffer - NLP and Data Extraction"
   ]
  },
  {
   "cell_type": "code",
   "execution_count": 1,
   "id": "d1021271",
   "metadata": {},
   "outputs": [
    {
     "name": "stdout",
     "output_type": "stream",
     "text": [
      "Requirement already satisfied: XlsxWriter in c:\\users\\india\\anaconda3\\lib\\site-packages (3.1.9)\n",
      "Requirement already satisfied: textstat in c:\\users\\india\\anaconda3\\lib\\site-packages (0.7.3)\n",
      "Requirement already satisfied: pyphen in c:\\users\\india\\anaconda3\\lib\\site-packages (from textstat) (0.14.0)\n",
      "Requirement already satisfied: beautifulsoup4 in c:\\users\\india\\anaconda3\\lib\\site-packages (4.12.2)\n",
      "Requirement already satisfied: requests in c:\\users\\india\\anaconda3\\lib\\site-packages (2.31.0)\n",
      "Requirement already satisfied: openpyxl in c:\\users\\india\\anaconda3\\lib\\site-packages (3.0.10)\n",
      "Requirement already satisfied: soupsieve>1.2 in c:\\users\\india\\anaconda3\\lib\\site-packages (from beautifulsoup4) (2.4)\n",
      "Requirement already satisfied: charset-normalizer<4,>=2 in c:\\users\\india\\anaconda3\\lib\\site-packages (from requests) (2.0.4)\n",
      "Requirement already satisfied: idna<4,>=2.5 in c:\\users\\india\\anaconda3\\lib\\site-packages (from requests) (3.4)\n",
      "Requirement already satisfied: urllib3<3,>=1.21.1 in c:\\users\\india\\anaconda3\\lib\\site-packages (from requests) (1.26.16)\n",
      "Requirement already satisfied: certifi>=2017.4.17 in c:\\users\\india\\anaconda3\\lib\\site-packages (from requests) (2023.7.22)\n",
      "Requirement already satisfied: et_xmlfile in c:\\users\\india\\anaconda3\\lib\\site-packages (from openpyxl) (1.1.0)\n",
      "Requirement already satisfied: beautifulsoup4 in c:\\users\\india\\anaconda3\\lib\\site-packages (4.12.2)\n",
      "Requirement already satisfied: requests in c:\\users\\india\\anaconda3\\lib\\site-packages (2.31.0)\n",
      "Requirement already satisfied: openpyxl in c:\\users\\india\\anaconda3\\lib\\site-packages (3.0.10)\n",
      "Requirement already satisfied: nltk in c:\\users\\india\\anaconda3\\lib\\site-packages (3.8.1)\n",
      "Requirement already satisfied: soupsieve>1.2 in c:\\users\\india\\anaconda3\\lib\\site-packages (from beautifulsoup4) (2.4)\n",
      "Requirement already satisfied: charset-normalizer<4,>=2 in c:\\users\\india\\anaconda3\\lib\\site-packages (from requests) (2.0.4)\n",
      "Requirement already satisfied: idna<4,>=2.5 in c:\\users\\india\\anaconda3\\lib\\site-packages (from requests) (3.4)\n",
      "Requirement already satisfied: urllib3<3,>=1.21.1 in c:\\users\\india\\anaconda3\\lib\\site-packages (from requests) (1.26.16)\n",
      "Requirement already satisfied: certifi>=2017.4.17 in c:\\users\\india\\anaconda3\\lib\\site-packages (from requests) (2023.7.22)\n",
      "Requirement already satisfied: et_xmlfile in c:\\users\\india\\anaconda3\\lib\\site-packages (from openpyxl) (1.1.0)\n",
      "Requirement already satisfied: click in c:\\users\\india\\anaconda3\\lib\\site-packages (from nltk) (8.0.4)\n",
      "Requirement already satisfied: joblib in c:\\users\\india\\anaconda3\\lib\\site-packages (from nltk) (1.2.0)\n",
      "Requirement already satisfied: regex>=2021.8.3 in c:\\users\\india\\anaconda3\\lib\\site-packages (from nltk) (2022.7.9)\n",
      "Requirement already satisfied: tqdm in c:\\users\\india\\anaconda3\\lib\\site-packages (from nltk) (4.65.0)\n",
      "Requirement already satisfied: colorama in c:\\users\\india\\anaconda3\\lib\\site-packages (from click->nltk) (0.4.6)\n"
     ]
    }
   ],
   "source": [
    "!pip install XlsxWriter\n",
    "!pip install textstat\n",
    "!pip install beautifulsoup4 requests openpyxl\n",
    "!pip install beautifulsoup4 requests openpyxl nltk\n",
    "!pip install pandas\n",
    "import requests\n",
    "from bs4 import BeautifulSoup\n",
    "import xlsxwriter\n",
    "import textstat\n",
    "import pandas as pd"
   ]
  },
  {
   "cell_type": "code",
   "execution_count": 29,
   "id": "ab067dac",
   "metadata": {},
   "outputs": [],
   "source": [
    "import os\n",
    "import requests\n",
    "import nltk\n",
    "from bs4 import BeautifulSoup\n",
    "from nltk import word_tokenize, sent_tokenize\n",
    "from nltk.sentiment import SentimentIntensityAnalyzer\n",
    "from nltk.corpus import stopwords\n",
    "from textstat import syllable_count\n",
    "from collections import Counter\n",
    "import openpyxl\n",
    "import re"
   ]
  },
  {
   "cell_type": "code",
   "execution_count": 3,
   "id": "8e985cb7",
   "metadata": {},
   "outputs": [
    {
     "name": "stderr",
     "output_type": "stream",
     "text": [
      "[nltk_data] Downloading package punkt to\n",
      "[nltk_data]     C:\\Users\\INDIA\\AppData\\Roaming\\nltk_data...\n",
      "[nltk_data]   Package punkt is already up-to-date!\n",
      "[nltk_data] Downloading package stopwords to\n",
      "[nltk_data]     C:\\Users\\INDIA\\AppData\\Roaming\\nltk_data...\n",
      "[nltk_data]   Package stopwords is already up-to-date!\n",
      "[nltk_data] Downloading package vader_lexicon to\n",
      "[nltk_data]     C:\\Users\\INDIA\\AppData\\Roaming\\nltk_data...\n",
      "[nltk_data]   Package vader_lexicon is already up-to-date!\n"
     ]
    },
    {
     "data": {
      "text/plain": [
       "True"
      ]
     },
     "execution_count": 3,
     "metadata": {},
     "output_type": "execute_result"
    }
   ],
   "source": [
    "# Download NLTK resources\n",
    "nltk.download('punkt')\n",
    "nltk.download('stopwords')\n",
    "nltk.download('vader_lexicon')"
   ]
  },
  {
   "cell_type": "markdown",
   "id": "f6cf6525",
   "metadata": {},
   "source": [
    "### Function to extract article text from a given URL"
   ]
  },
  {
   "cell_type": "code",
   "execution_count": 37,
   "id": "57da4f78",
   "metadata": {},
   "outputs": [],
   "source": [
    "\n",
    "def extract_article_text(url):\n",
    "    try:\n",
    "        response = requests.get(url)\n",
    "        soup = BeautifulSoup(response.text, 'html.parser')\n",
    "\n",
    "        # Extracting title and article text\n",
    "        title = soup.title.text.strip()\n",
    "        article_text = ' '.join([p.text.strip() for p in soup.find_all('p')])\n",
    "\n",
    "        return title, article_text\n",
    "    except Exception as e:\n",
    "        print(f\"Error extracting data from {url}: {e}\")\n",
    "        return None, None"
   ]
  },
  {
   "cell_type": "markdown",
   "id": "08044618",
   "metadata": {},
   "source": [
    "### Function to read stop words from multiple files in a folder"
   ]
  },
  {
   "cell_type": "code",
   "execution_count": 38,
   "id": "11245066",
   "metadata": {},
   "outputs": [],
   "source": [
    "def read_stop_words(folder_path):\n",
    "    stop_words = set()\n",
    "    for filename in os.listdir(folder_path):\n",
    "        file_path = os.path.join(folder_path, filename)\n",
    "        with open(file_path, 'r', encoding='latin-1') as file:\n",
    "            stop_words.update(word.strip() for word in file.readlines())\n",
    "    return stop_words"
   ]
  },
  {
   "cell_type": "markdown",
   "id": "1e315087",
   "metadata": {},
   "source": [
    "### Function to read positive and negative words from separate files"
   ]
  },
  {
   "cell_type": "code",
   "execution_count": 39,
   "id": "47ec3f81",
   "metadata": {},
   "outputs": [],
   "source": [
    "def read_master_dictionary(positive_file, negative_file, stop_words):\n",
    "    positive_words = set()\n",
    "    with open(positive_file, 'r', encoding='latin-1') as file:\n",
    "        positive_words.update(word.strip() for word in file.readlines() if word.lower() not in stop_words)\n",
    "\n",
    "    negative_words = set()\n",
    "    with open(negative_file, 'r', encoding='latin-1') as file:\n",
    "        negative_words.update(word.strip() for word in file.readlines() if word.lower() not in stop_words)\n",
    "\n",
    "    return positive_words, negative_words"
   ]
  },
  {
   "cell_type": "markdown",
   "id": "60cc5fb7",
   "metadata": {},
   "source": [
    "### Function to perform textual analysis and compute variables"
   ]
  },
  {
   "cell_type": "code",
   "execution_count": 40,
   "id": "fe898ad2",
   "metadata": {},
   "outputs": [],
   "source": [
    "def perform_textual_analysis(article_text, stop_words, positive_words, negative_words):\n",
    "    # Tokenize words and sentences\n",
    "    words = word_tokenize(article_text)\n",
    "    sentences = sent_tokenize(article_text)\n",
    "\n",
    "    # Remove stop words and punctuation\n",
    "    words = [word.lower() for word in words if word.isalpha() and word.lower() not in stop_words]\n",
    "\n",
    "    # Calculate word count\n",
    "    word_count = len(words)\n",
    "\n",
    "    # Create positive and negative score dictionaries\n",
    "    positive_score_dict = Counter({word: 1 for word in words if word in positive_words})\n",
    "    negative_score_dict = Counter({word: -1 for word in words if word in negative_words})\n",
    "\n",
    "    # Calculate positive and negative scores\n",
    "    positive_score = sum(positive_score_dict.values())\n",
    "    negative_score = sum(negative_score_dict.values())\n",
    "\n",
    "    # Calculate polarity score\n",
    "    polarity_score = (positive_score - negative_score) / (positive_score + negative_score + 0.000001)\n",
    "\n",
    "    # Calculate subjectivity score\n",
    "    subjectivity_score = (positive_score + negative_score) / (word_count + 0.000001)\n",
    "\n",
    "    # Calculate average sentence length\n",
    "    avg_sentence_length = sum(len(sent.split()) for sent in sentences) / len(sentences) if len(sentences) > 0 else 0\n",
    "\n",
    "    # Calculate percentage of complex words\n",
    "    complex_word_count = sum(1 for word in words if syllable_count(word) > 2)\n",
    "    percentage_complex_words = (complex_word_count / word_count) * 100 if word_count > 0 else 0\n",
    "\n",
    "    # Calculate Fog Index\n",
    "    fog_index = 0.4 * (avg_sentence_length + percentage_complex_words)\n",
    "\n",
    "    # Calculate average number of words per sentence\n",
    "    avg_words_per_sentence = word_count / len(sentences) if len(sentences) > 0 else 0\n",
    "    \n",
    "    # Calculate Syllable Count Per Word\n",
    "    syllables_per_word = sum(syllable_count(word) for word in words) / word_count if word_count > 0 else 0\n",
    "\n",
    "    # Calculate Personal Pronouns\n",
    "    personal_pronouns_count = len(re.findall(r'\\b(?:I|we|my|ours|us)\\b', article_text, flags=re.IGNORECASE))\n",
    "\n",
    "    # Calculate Average Word Length\n",
    "    avg_word_length = sum(len(word) for word in words) / word_count if word_count > 0 else 0\n",
    "\n",
    "    return positive_score, negative_score, polarity_score, subjectivity_score, avg_sentence_length, \\\n",
    "           percentage_complex_words, fog_index, avg_words_per_sentence, complex_word_count, word_count, \\\n",
    "           syllables_per_word, personal_pronouns_count, avg_word_length\n",
    "\n",
    "    #return positive_score, negative_score, polarity_score, subjectivity_score, avg_sentence_length, \\\n",
    "           #percentage_complex_words, fog_index, avg_words_per_sentence, complex_word_count, word_count"
   ]
  },
  {
   "cell_type": "code",
   "execution_count": 41,
   "id": "12758d5a",
   "metadata": {},
   "outputs": [],
   "source": [
    "# Read stop words from the StopWords folder\n",
    "stop_words_folder = \"StopWords\"\n",
    "stop_words = read_stop_words(stop_words_folder)"
   ]
  },
  {
   "cell_type": "code",
   "execution_count": 42,
   "id": "b538e2b5",
   "metadata": {},
   "outputs": [],
   "source": [
    "# Read positive and negative words from the MasterDictionary\n",
    "positive_file = \"MasterDictionary/positive-words.txt\"\n",
    "negative_file = \"MasterDictionary/negative-words.txt\"\n",
    "positive_words, negative_words = read_master_dictionary(positive_file, negative_file, stop_words)"
   ]
  },
  {
   "cell_type": "markdown",
   "id": "1133884f",
   "metadata": {},
   "source": [
    "### Read the input Excel file"
   ]
  },
  {
   "cell_type": "code",
   "execution_count": 43,
   "id": "4eed070c",
   "metadata": {},
   "outputs": [],
   "source": [
    "input_file = \"Input.xlsx\"\n",
    "input_workbook = openpyxl.load_workbook(input_file)\n",
    "input_sheet = input_workbook.active"
   ]
  },
  {
   "cell_type": "code",
   "execution_count": 44,
   "id": "ed4f82bd",
   "metadata": {},
   "outputs": [],
   "source": [
    "# Create an output workbook\n",
    "output_workbook = openpyxl.Workbook()\n",
    "output_sheet = output_workbook.active"
   ]
  },
  {
   "cell_type": "code",
   "execution_count": 45,
   "id": "d92f5e6a",
   "metadata": {},
   "outputs": [],
   "source": [
    "# Write headers to the output sheet\n",
    "output_sheet.append([\"URL_ID\", \"Title\", \"Positive Score\", \"Negative Score\", \"Polarity Score\",\n",
    "                     \"Subjectivity Score\", \"Avg Sentence Length\", \"Percentage of Complex Words\",\n",
    "                     \"Fog Index\", \"Avg Words per Sentence\", \"Complex Word Count\", \"Word Count\",\"Syllables Per Word\", \"Personal Pronouns Count\", \"Avg Word Length\"])"
   ]
  },
  {
   "cell_type": "markdown",
   "id": "3dd97310",
   "metadata": {},
   "source": [
    "### Iterate through rows in the Input Excel file"
   ]
  },
  {
   "cell_type": "code",
   "execution_count": 46,
   "id": "a523aeca",
   "metadata": {},
   "outputs": [
    {
     "name": "stdout",
     "output_type": "stream",
     "text": [
      "Processing blackassign0001 - https://insights.blackcoffer.com/rising-it-cities-and-its-impact-on-the-economy-environment-infrastructure-and-city-life-by-the-year-2040-2/\n",
      "Data extracted and analyzed for blackassign0001\n",
      "Processing blackassign0002 - https://insights.blackcoffer.com/rising-it-cities-and-their-impact-on-the-economy-environment-infrastructure-and-city-life-in-future/\n",
      "Data extracted and analyzed for blackassign0002\n",
      "Processing blackassign0003 - https://insights.blackcoffer.com/internet-demands-evolution-communication-impact-and-2035s-alternative-pathways/\n",
      "Data extracted and analyzed for blackassign0003\n",
      "Processing blackassign0004 - https://insights.blackcoffer.com/rise-of-cybercrime-and-its-effect-in-upcoming-future/\n",
      "Data extracted and analyzed for blackassign0004\n",
      "Processing blackassign0005 - https://insights.blackcoffer.com/ott-platform-and-its-impact-on-the-entertainment-industry-in-future/\n",
      "Data extracted and analyzed for blackassign0005\n",
      "Processing blackassign0006 - https://insights.blackcoffer.com/the-rise-of-the-ott-platform-and-its-impact-on-the-entertainment-industry-by-2040/\n",
      "Data extracted and analyzed for blackassign0006\n",
      "Processing blackassign0007 - https://insights.blackcoffer.com/rise-of-cyber-crime-and-its-effects/\n",
      "Data extracted and analyzed for blackassign0007\n",
      "Processing blackassign0008 - https://insights.blackcoffer.com/rise-of-internet-demand-and-its-impact-on-communications-and-alternatives-by-the-year-2035-2/\n",
      "Data extracted and analyzed for blackassign0008\n",
      "Processing blackassign0009 - https://insights.blackcoffer.com/rise-of-cybercrime-and-its-effect-by-the-year-2040-2/\n",
      "Data extracted and analyzed for blackassign0009\n",
      "Processing blackassign0010 - https://insights.blackcoffer.com/rise-of-cybercrime-and-its-effect-by-the-year-2040/\n",
      "Data extracted and analyzed for blackassign0010\n",
      "Processing blackassign0011 - https://insights.blackcoffer.com/rise-of-internet-demand-and-its-impact-on-communications-and-alternatives-by-the-year-2035/\n",
      "Data extracted and analyzed for blackassign0011\n",
      "Processing blackassign0012 - https://insights.blackcoffer.com/rise-of-telemedicine-and-its-impact-on-livelihood-by-2040-3-2/\n",
      "Data extracted and analyzed for blackassign0012\n",
      "Processing blackassign0013 - https://insights.blackcoffer.com/rise-of-e-health-and-its-impact-on-humans-by-the-year-2030/\n",
      "Data extracted and analyzed for blackassign0013\n",
      "Processing blackassign0014 - https://insights.blackcoffer.com/rise-of-e-health-and-its-imapct-on-humans-by-the-year-2030-2/\n",
      "Data extracted and analyzed for blackassign0014\n",
      "Processing blackassign0015 - https://insights.blackcoffer.com/rise-of-telemedicine-and-its-impact-on-livelihood-by-2040-2/\n",
      "Data extracted and analyzed for blackassign0015\n",
      "Processing blackassign0016 - https://insights.blackcoffer.com/rise-of-telemedicine-and-its-impact-on-livelihood-by-2040-2-2/\n",
      "Data extracted and analyzed for blackassign0016\n",
      "Processing blackassign0017 - https://insights.blackcoffer.com/rise-of-chatbots-and-its-impact-on-customer-support-by-the-year-2040/\n",
      "Data extracted and analyzed for blackassign0017\n",
      "Processing blackassign0018 - https://insights.blackcoffer.com/rise-of-e-health-and-its-imapct-on-humans-by-the-year-2030/\n",
      "Data extracted and analyzed for blackassign0018\n",
      "Processing blackassign0019 - https://insights.blackcoffer.com/how-does-marketing-influence-businesses-and-consumers/\n",
      "Data extracted and analyzed for blackassign0019\n",
      "Processing blackassign0020 - https://insights.blackcoffer.com/how-advertisement-increase-your-market-value/\n",
      "Data extracted and analyzed for blackassign0020\n",
      "Processing blackassign0021 - https://insights.blackcoffer.com/negative-effects-of-marketing-on-society/\n",
      "Data extracted and analyzed for blackassign0021\n",
      "Processing blackassign0022 - https://insights.blackcoffer.com/how-advertisement-marketing-affects-business/\n",
      "Data extracted and analyzed for blackassign0022\n",
      "Processing blackassign0023 - https://insights.blackcoffer.com/rising-it-cities-will-impact-the-economy-environment-infrastructure-and-city-life-by-the-year-2035/\n",
      "Data extracted and analyzed for blackassign0023\n",
      "Processing blackassign0024 - https://insights.blackcoffer.com/rise-of-ott-platform-and-its-impact-on-entertainment-industry-by-the-year-2030/\n",
      "Data extracted and analyzed for blackassign0024\n",
      "Processing blackassign0025 - https://insights.blackcoffer.com/rise-of-electric-vehicles-and-its-impact-on-livelihood-by-2040/\n",
      "Data extracted and analyzed for blackassign0025\n",
      "Processing blackassign0026 - https://insights.blackcoffer.com/rise-of-electric-vehicle-and-its-impact-on-livelihood-by-the-year-2040/\n",
      "Data extracted and analyzed for blackassign0026\n",
      "Processing blackassign0027 - https://insights.blackcoffer.com/oil-prices-by-the-year-2040-and-how-it-will-impact-the-world-economy/\n",
      "Data extracted and analyzed for blackassign0027\n",
      "Processing blackassign0028 - https://insights.blackcoffer.com/an-outlook-of-healthcare-by-the-year-2040-and-how-it-will-impact-human-lives/\n",
      "Data extracted and analyzed for blackassign0028\n",
      "Processing blackassign0029 - https://insights.blackcoffer.com/ai-in-healthcare-to-improve-patient-outcomes/\n",
      "Data extracted and analyzed for blackassign0029\n",
      "Processing blackassign0030 - https://insights.blackcoffer.com/what-if-the-creation-is-taking-over-the-creator/\n",
      "Data extracted and analyzed for blackassign0030\n",
      "Processing blackassign0031 - https://insights.blackcoffer.com/what-jobs-will-robots-take-from-humans-in-the-future/\n",
      "Data extracted and analyzed for blackassign0031\n",
      "Processing blackassign0032 - https://insights.blackcoffer.com/will-machine-replace-the-human-in-the-future-of-work/\n",
      "Data extracted and analyzed for blackassign0032\n",
      "Processing blackassign0033 - https://insights.blackcoffer.com/will-ai-replace-us-or-work-with-us/\n",
      "Data extracted and analyzed for blackassign0033\n",
      "Processing blackassign0034 - https://insights.blackcoffer.com/man-and-machines-together-machines-are-more-diligent-than-humans-blackcoffe/\n",
      "Data extracted and analyzed for blackassign0034\n",
      "Processing blackassign0035 - https://insights.blackcoffer.com/in-future-or-in-upcoming-years-humans-and-machines-are-going-to-work-together-in-every-field-of-work/\n",
      "Data extracted and analyzed for blackassign0035\n",
      "Processing blackassign0036 - https://insights.blackcoffer.com/how-neural-networks-can-be-applied-in-various-areas-in-the-future/\n",
      "Data extracted and analyzed for blackassign0036\n",
      "Processing blackassign0037 - https://insights.blackcoffer.com/how-machine-learning-will-affect-your-business/\n",
      "Data extracted and analyzed for blackassign0037\n",
      "Processing blackassign0038 - https://insights.blackcoffer.com/deep-learning-impact-on-areas-of-e-learning/\n",
      "Data extracted and analyzed for blackassign0038\n",
      "Processing blackassign0039 - https://insights.blackcoffer.com/how-to-protect-future-data-and-its-privacy-blackcoffer/\n",
      "Data extracted and analyzed for blackassign0039\n",
      "Processing blackassign0040 - https://insights.blackcoffer.com/how-machines-ai-automations-and-robo-human-are-effective-in-finance-and-banking/\n",
      "Data extracted and analyzed for blackassign0040\n",
      "Processing blackassign0041 - https://insights.blackcoffer.com/ai-human-robotics-machine-future-planet-blackcoffer-thinking-jobs-workplace/\n",
      "Data extracted and analyzed for blackassign0041\n",
      "Processing blackassign0042 - https://insights.blackcoffer.com/how-ai-will-change-the-world-blackcoffer/\n",
      "Data extracted and analyzed for blackassign0042\n",
      "Processing blackassign0043 - https://insights.blackcoffer.com/future-of-work-how-ai-has-entered-the-workplace/\n",
      "Data extracted and analyzed for blackassign0043\n",
      "Processing blackassign0044 - https://insights.blackcoffer.com/ai-tool-alexa-google-assistant-finance-banking-tool-future/\n",
      "Data extracted and analyzed for blackassign0044\n",
      "Processing blackassign0045 - https://insights.blackcoffer.com/ai-healthcare-revolution-ml-technology-algorithm-google-analytics-industrialrevolution/\n",
      "Data extracted and analyzed for blackassign0045\n",
      "Processing blackassign0046 - https://insights.blackcoffer.com/all-you-need-to-know-about-online-marketing/\n",
      "Data extracted and analyzed for blackassign0046\n",
      "Processing blackassign0047 - https://insights.blackcoffer.com/evolution-of-advertising-industry/\n",
      "Data extracted and analyzed for blackassign0047\n",
      "Processing blackassign0048 - https://insights.blackcoffer.com/how-data-analytics-can-help-your-business-respond-to-the-impact-of-covid-19/\n"
     ]
    },
    {
     "name": "stdout",
     "output_type": "stream",
     "text": [
      "Data extracted and analyzed for blackassign0048\n",
      "Processing blackassign0049 - https://insights.blackcoffer.com/covid-19-environmental-impact-for-the-future/\n",
      "Data extracted and analyzed for blackassign0049\n",
      "Processing blackassign0050 - https://insights.blackcoffer.com/environmental-impact-of-the-covid-19-pandemic-lesson-for-the-future/\n",
      "Data extracted and analyzed for blackassign0050\n",
      "Processing blackassign0051 - https://insights.blackcoffer.com/how-data-analytics-and-ai-are-used-to-halt-the-covid-19-pandemic/\n",
      "Data extracted and analyzed for blackassign0051\n",
      "Processing blackassign0052 - https://insights.blackcoffer.com/difference-between-artificial-intelligence-machine-learning-statistics-and-data-mining/\n",
      "Data extracted and analyzed for blackassign0052\n",
      "Processing blackassign0053 - https://insights.blackcoffer.com/how-python-became-the-first-choice-for-data-science/\n",
      "Data extracted and analyzed for blackassign0053\n",
      "Processing blackassign0054 - https://insights.blackcoffer.com/how-google-fit-measure-heart-and-respiratory-rates-using-a-phone/\n",
      "Data extracted and analyzed for blackassign0054\n",
      "Processing blackassign0055 - https://insights.blackcoffer.com/what-is-the-future-of-mobile-apps/\n",
      "Data extracted and analyzed for blackassign0055\n",
      "Processing blackassign0056 - https://insights.blackcoffer.com/impact-of-ai-in-health-and-medicine/\n",
      "Data extracted and analyzed for blackassign0056\n",
      "Processing blackassign0057 - https://insights.blackcoffer.com/telemedicine-what-patients-like-and-dislike-about-it/\n",
      "Data extracted and analyzed for blackassign0057\n",
      "Processing blackassign0058 - https://insights.blackcoffer.com/how-we-forecast-future-technologies/\n",
      "Data extracted and analyzed for blackassign0058\n",
      "Processing blackassign0059 - https://insights.blackcoffer.com/can-robots-tackle-late-life-loneliness/\n",
      "Data extracted and analyzed for blackassign0059\n",
      "Processing blackassign0060 - https://insights.blackcoffer.com/embedding-care-robots-into-society-socio-technical-considerations/\n",
      "Data extracted and analyzed for blackassign0060\n",
      "Processing blackassign0061 - https://insights.blackcoffer.com/management-challenges-for-future-digitalization-of-healthcare-services/\n",
      "Data extracted and analyzed for blackassign0061\n",
      "Processing blackassign0062 - https://insights.blackcoffer.com/are-we-any-closer-to-preventing-a-nuclear-holocaust/\n",
      "Data extracted and analyzed for blackassign0062\n",
      "Processing blackassign0063 - https://insights.blackcoffer.com/will-technology-eliminate-the-need-for-animal-testing-in-drug-development/\n",
      "Data extracted and analyzed for blackassign0063\n",
      "Processing blackassign0064 - https://insights.blackcoffer.com/will-we-ever-understand-the-nature-of-consciousness/\n",
      "Data extracted and analyzed for blackassign0064\n",
      "Processing blackassign0065 - https://insights.blackcoffer.com/will-we-ever-colonize-outer-space/\n",
      "Data extracted and analyzed for blackassign0065\n",
      "Processing blackassign0066 - https://insights.blackcoffer.com/what-is-the-chance-homo-sapiens-will-survive-for-the-next-500-years/\n",
      "Data extracted and analyzed for blackassign0066\n",
      "Processing blackassign0067 - https://insights.blackcoffer.com/why-does-your-business-need-a-chatbot/\n",
      "Data extracted and analyzed for blackassign0067\n",
      "Processing blackassign0068 - https://insights.blackcoffer.com/how-you-lead-a-project-or-a-team-without-any-technical-expertise/\n",
      "Data extracted and analyzed for blackassign0068\n",
      "Processing blackassign0069 - https://insights.blackcoffer.com/can-you-be-great-leader-without-technical-expertise/\n",
      "Data extracted and analyzed for blackassign0069\n",
      "Processing blackassign0070 - https://insights.blackcoffer.com/how-does-artificial-intelligence-affect-the-environment/\n",
      "Data extracted and analyzed for blackassign0070\n",
      "Processing blackassign0071 - https://insights.blackcoffer.com/how-to-overcome-your-fear-of-making-mistakes-2/\n",
      "Data extracted and analyzed for blackassign0071\n",
      "Processing blackassign0072 - https://insights.blackcoffer.com/is-perfection-the-greatest-enemy-of-productivity/\n",
      "Data extracted and analyzed for blackassign0072\n",
      "Processing blackassign0073 - https://insights.blackcoffer.com/global-financial-crisis-2008-causes-effects-and-its-solution/\n",
      "Data extracted and analyzed for blackassign0073\n",
      "Processing blackassign0074 - https://insights.blackcoffer.com/gender-diversity-and-equality-in-the-tech-industry/\n",
      "Data extracted and analyzed for blackassign0074\n",
      "Processing blackassign0075 - https://insights.blackcoffer.com/how-to-overcome-your-fear-of-making-mistakes/\n",
      "Data extracted and analyzed for blackassign0075\n",
      "Processing blackassign0076 - https://insights.blackcoffer.com/how-small-business-can-survive-the-coronavirus-crisis/\n",
      "Data extracted and analyzed for blackassign0076\n",
      "Processing blackassign0077 - https://insights.blackcoffer.com/impacts-of-covid-19-on-vegetable-vendors-and-food-stalls/\n",
      "Data extracted and analyzed for blackassign0077\n",
      "Processing blackassign0078 - https://insights.blackcoffer.com/impacts-of-covid-19-on-vegetable-vendors/\n",
      "Data extracted and analyzed for blackassign0078\n",
      "Processing blackassign0079 - https://insights.blackcoffer.com/impact-of-covid-19-pandemic-on-tourism-aviation-industries/\n",
      "Data extracted and analyzed for blackassign0079\n",
      "Processing blackassign0080 - https://insights.blackcoffer.com/impact-of-covid-19-pandemic-on-sports-events-around-the-world/\n",
      "Data extracted and analyzed for blackassign0080\n",
      "Processing blackassign0081 - https://insights.blackcoffer.com/changing-landscape-and-emerging-trends-in-the-indian-it-ites-industry/\n",
      "Data extracted and analyzed for blackassign0081\n",
      "Processing blackassign0082 - https://insights.blackcoffer.com/online-gaming-adolescent-online-gaming-effects-demotivated-depression-musculoskeletal-and-psychosomatic-symptoms/\n",
      "Data extracted and analyzed for blackassign0082\n",
      "Processing blackassign0083 - https://insights.blackcoffer.com/human-rights-outlook/\n",
      "Data extracted and analyzed for blackassign0083\n",
      "Processing blackassign0084 - https://insights.blackcoffer.com/how-voice-search-makes-your-business-a-successful-business/\n",
      "Data extracted and analyzed for blackassign0084\n",
      "Processing blackassign0085 - https://insights.blackcoffer.com/how-the-covid-19-crisis-is-redefining-jobs-and-services/\n",
      "Data extracted and analyzed for blackassign0085\n",
      "Processing blackassign0086 - https://insights.blackcoffer.com/how-to-increase-social-media-engagement-for-marketers/\n",
      "Data extracted and analyzed for blackassign0086\n",
      "Processing blackassign0087 - https://insights.blackcoffer.com/impacts-of-covid-19-on-streets-sides-food-stalls/\n",
      "Data extracted and analyzed for blackassign0087\n",
      "Processing blackassign0088 - https://insights.blackcoffer.com/coronavirus-impact-on-energy-markets-2/\n",
      "Data extracted and analyzed for blackassign0088\n",
      "Processing blackassign0089 - https://insights.blackcoffer.com/coronavirus-impact-on-the-hospitality-industry-5/\n",
      "Data extracted and analyzed for blackassign0089\n",
      "Processing blackassign0090 - https://insights.blackcoffer.com/lessons-from-the-past-some-key-learnings-relevant-to-the-coronavirus-crisis-4/\n",
      "Data extracted and analyzed for blackassign0090\n",
      "Processing blackassign0091 - https://insights.blackcoffer.com/estimating-the-impact-of-covid-19-on-the-world-of-work-2/\n",
      "Data extracted and analyzed for blackassign0091\n",
      "Processing blackassign0092 - https://insights.blackcoffer.com/estimating-the-impact-of-covid-19-on-the-world-of-work-3/\n",
      "Data extracted and analyzed for blackassign0092\n",
      "Processing blackassign0093 - https://insights.blackcoffer.com/travel-and-tourism-outlook/\n",
      "Data extracted and analyzed for blackassign0093\n",
      "Processing blackassign0094 - https://insights.blackcoffer.com/gaming-disorder-and-effects-of-gaming-on-health/\n",
      "Data extracted and analyzed for blackassign0094\n",
      "Processing blackassign0095 - https://insights.blackcoffer.com/what-is-the-repercussion-of-the-environment-due-to-the-covid-19-pandemic-situation/\n",
      "Data extracted and analyzed for blackassign0095\n",
      "Processing blackassign0096 - https://insights.blackcoffer.com/what-is-the-repercussion-of-the-environment-due-to-the-covid-19-pandemic-situation-2/\n",
      "Data extracted and analyzed for blackassign0096\n",
      "Processing blackassign0097 - https://insights.blackcoffer.com/impact-of-covid-19-pandemic-on-office-space-and-co-working-industries/\n",
      "Data extracted and analyzed for blackassign0097\n",
      "Processing blackassign0098 - https://insights.blackcoffer.com/contribution-of-handicrafts-visual-arts-literature-in-the-indian-economy/\n"
     ]
    },
    {
     "name": "stdout",
     "output_type": "stream",
     "text": [
      "Data extracted and analyzed for blackassign0098\n",
      "Processing blackassign0099 - https://insights.blackcoffer.com/how-covid-19-is-impacting-payment-preferences/\n",
      "Data extracted and analyzed for blackassign0099\n",
      "Processing blackassign0100 - https://insights.blackcoffer.com/how-will-covid-19-affect-the-world-of-work-2/\n",
      "Data extracted and analyzed for blackassign0100\n"
     ]
    }
   ],
   "source": [
    "for row in input_sheet.iter_rows(min_row=2, values_only=True):\n",
    "    url_id, url = row\n",
    "    print(f\"Processing {url_id} - {url}\")\n",
    "\n",
    "    # Extract article text\n",
    "    title, article_text = extract_article_text(url)\n",
    "\n",
    "    # Perform textual analysis\n",
    "    if title and article_text:\n",
    "        positive_score, negative_score, polarity_score, subjectivity_score, avg_sentence_length, \\\n",
    "        percentage_complex_words, fog_index, avg_words_per_sentence, complex_word_count, word_count, \\\n",
    "        syllables_per_word, personal_pronouns_count, avg_word_length = \\\n",
    "            perform_textual_analysis(article_text, stop_words, positive_words, negative_words)\n",
    "\n",
    "        # Write results to the output sheet\n",
    "        output_sheet.append([url_id, title, positive_score, negative_score, polarity_score,\n",
    "                             subjectivity_score, avg_sentence_length, percentage_complex_words,\n",
    "                             fog_index, avg_words_per_sentence, complex_word_count, word_count,\n",
    "                             syllables_per_word, personal_pronouns_count, avg_word_length])\n",
    "        print(f\"Data extracted and analyzed for {url_id}\")\n",
    "    else:\n",
    "        print(f\"Failed to extract data for {url_id}\")"
   ]
  },
  {
   "cell_type": "markdown",
   "id": "d81de97b",
   "metadata": {},
   "source": [
    "### Save the output workbook"
   ]
  },
  {
   "cell_type": "code",
   "execution_count": 47,
   "id": "594519ac",
   "metadata": {},
   "outputs": [],
   "source": [
    "output_workbook.save(\"Output Data Structure.xlsx\")"
   ]
  },
  {
   "cell_type": "code",
   "execution_count": 48,
   "id": "7d636226",
   "metadata": {},
   "outputs": [],
   "source": [
    "# Close the input workbook\n",
    "input_workbook.close()"
   ]
  },
  {
   "cell_type": "code",
   "execution_count": null,
   "id": "7ae77b91",
   "metadata": {},
   "outputs": [],
   "source": []
  }
 ],
 "metadata": {
  "kernelspec": {
   "display_name": "Python 3 (ipykernel)",
   "language": "python",
   "name": "python3"
  },
  "language_info": {
   "codemirror_mode": {
    "name": "ipython",
    "version": 3
   },
   "file_extension": ".py",
   "mimetype": "text/x-python",
   "name": "python",
   "nbconvert_exporter": "python",
   "pygments_lexer": "ipython3",
   "version": "3.11.5"
  }
 },
 "nbformat": 4,
 "nbformat_minor": 5
}
